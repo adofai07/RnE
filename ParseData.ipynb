{
  "cells": [
    {
      "attachments": {},
      "cell_type": "markdown",
      "metadata": {},
      "source": [
        "# Data Parsing\n",
        "\n",
        "**Chatbot_data**\n",
        "|`Data`|`Thread`|\n",
        "|:---|:---|\n",
        "|`Prompt`|`1000`|\n",
        "|`Response`|`1001`|\n",
        "|`Label`|`1002`|\n",
        "|`Vectorized prompt`|`1100`|\n",
        "|`Vectorized response`|`1101`|\n",
        "|`Numpy labels`|`1102`|"
      ]
    },
    {
      "attachments": {},
      "cell_type": "markdown",
      "metadata": {},
      "source": [
        "**All the imports here**"
      ]
    },
    {
      "cell_type": "code",
      "execution_count": 121,
      "metadata": {},
      "outputs": [],
      "source": [
        "import pickle\n",
        "import tensorflow as tf\n",
        "import numpy as np"
      ]
    },
    {
      "cell_type": "code",
      "execution_count": 122,
      "metadata": {},
      "outputs": [],
      "source": [
        "def save(data, thread=0):\n",
        "    with open(F\"C:/SSHS/codes/Data/R{thread}.adofai\", \"wb+\") as f:\n",
        "        pickle.dump(data, f)\n",
        "\n",
        "def load(thread=0):\n",
        "    while True:\n",
        "        try:\n",
        "            with open(F\"C:/SSHS/codes/Data/R{thread}.adofai\", \"rb\") as f:\n",
        "                return pickle.load(f)\n",
        "            \n",
        "        except:\n",
        "            ..."
      ]
    },
    {
      "cell_type": "code",
      "execution_count": 123,
      "metadata": {},
      "outputs": [],
      "source": [
        "sentences = load(1000)\n",
        "responses = load(1001)\n",
        "labels = load(1002)"
      ]
    },
    {
      "cell_type": "code",
      "execution_count": 124,
      "metadata": {},
      "outputs": [
        {
          "name": "stdout",
          "output_type": "stream",
          "text": [
            "11823\n"
          ]
        }
      ],
      "source": [
        "c = sentences + responses\n",
        "\n",
        "print(len(sentences))"
      ]
    },
    {
      "cell_type": "code",
      "execution_count": 125,
      "metadata": {},
      "outputs": [],
      "source": [
        "vectorizer = tf.keras.layers.TextVectorization()\n",
        "\n",
        "# Adapt the layer to the sentences\n",
        "vectorizer.adapt(c)\n",
        "\n",
        "# Convert the sentences to vectors\n",
        "vectors = vectorizer(c)\n"
      ]
    },
    {
      "cell_type": "code",
      "execution_count": 126,
      "metadata": {},
      "outputs": [
        {
          "data": {
            "text/plain": [
              "<tf.Tensor: shape=(23646, 21), dtype=int64, numpy=\n",
              "array([[20667, 17682,     0, ...,     0,     0,     0],\n",
              "       [20634,   577,  1059, ...,     0,     0,     0],\n",
              "       [ 9419,  1941,    37, ...,     0,     0,     0],\n",
              "       ...,\n",
              "       [15158,     0,     0, ...,     0,     0,     0],\n",
              "       [    8,  1726,     3, ...,     0,     0,     0],\n",
              "       [ 8464,  1489,   103, ...,     0,     0,     0]], dtype=int64)>"
            ]
          },
          "execution_count": 126,
          "metadata": {},
          "output_type": "execute_result"
        }
      ],
      "source": [
        "vectors"
      ]
    },
    {
      "cell_type": "code",
      "execution_count": 127,
      "metadata": {},
      "outputs": [],
      "source": [
        "save((vectors[:11823]), 1100)\n",
        "save((vectors[11823:]), 1101)\n",
        "save((labels), 1102)"
      ]
    }
  ],
  "metadata": {
    "colab": {
      "provenance": []
    },
    "kernelspec": {
      "display_name": "Python 3",
      "name": "python3"
    },
    "language_info": {
      "codemirror_mode": {
        "name": "ipython",
        "version": 3
      },
      "file_extension": ".py",
      "mimetype": "text/x-python",
      "name": "python",
      "nbconvert_exporter": "python",
      "pygments_lexer": "ipython3",
      "version": "3.10.6"
    }
  },
  "nbformat": 4,
  "nbformat_minor": 0
}
