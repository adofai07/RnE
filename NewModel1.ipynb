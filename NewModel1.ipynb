{
  "cells": [
    {
      "attachments": {},
      "cell_type": "markdown",
      "metadata": {},
      "source": [
        "**All the imports here**"
      ]
    },
    {
      "cell_type": "code",
      "execution_count": 179,
      "metadata": {
        "id": "4jt1CP4u45rr"
      },
      "outputs": [],
      "source": [
        "import pickle\n",
        "import tensorflow as tf\n",
        "import random\n",
        "import numpy as np"
      ]
    },
    {
      "cell_type": "code",
      "execution_count": 180,
      "metadata": {},
      "outputs": [
        {
          "data": {
            "text/plain": [
              "'2.9.0'"
            ]
          },
          "execution_count": 180,
          "metadata": {},
          "output_type": "execute_result"
        }
      ],
      "source": [
        "tf.__version__"
      ]
    },
    {
      "cell_type": "code",
      "execution_count": 181,
      "metadata": {},
      "outputs": [],
      "source": [
        "def save(data, thread=0):\n",
        "    with open(F\"C:/SSHS/codes/Data/R{thread}.adofai\", \"wb+\") as f:\n",
        "        pickle.dump(data, f)\n",
        "\n",
        "def load(thread=0):\n",
        "    while True:\n",
        "        try:\n",
        "            with open(F\"C:/SSHS/codes/Data/R{thread}.adofai\", \"rb\") as f:\n",
        "                return pickle.load(f)\n",
        "            \n",
        "        except:\n",
        "            ..."
      ]
    },
    {
      "attachments": {},
      "cell_type": "markdown",
      "metadata": {},
      "source": [
        "Load prompts & responses"
      ]
    },
    {
      "cell_type": "code",
      "execution_count": 182,
      "metadata": {},
      "outputs": [],
      "source": [
        "prompts = load(1100)\n",
        "responses = load(1101)\n",
        "labels = load(1102)"
      ]
    },
    {
      "attachments": {},
      "cell_type": "markdown",
      "metadata": {},
      "source": [
        "Shuffle data for better results"
      ]
    },
    {
      "cell_type": "code",
      "execution_count": 183,
      "metadata": {},
      "outputs": [],
      "source": [
        "assert len(prompts) == len(responses) == len(labels)\n",
        "t = [(prompts[i], responses[i], labels[i]) for i in range(len(prompts))]\n",
        "\n",
        "random.shuffle(t)\n",
        "\n",
        "prompts = [i[0] for i in t]\n",
        "responses = [i[1] for i in t]\n",
        "labels = [i[2] for i in t]"
      ]
    },
    {
      "attachments": {},
      "cell_type": "markdown",
      "metadata": {},
      "source": [
        "Check if the data is shuffled"
      ]
    },
    {
      "cell_type": "code",
      "execution_count": 184,
      "metadata": {},
      "outputs": [
        {
          "name": "stdout",
          "output_type": "stream",
          "text": [
            "[2, 2, 2, 2, 0, 0, 2, 2, 0, 2, 0, 0, 0, 1, 1, 1, 1, 0, 1, 1, 0, 0, 0, 2, 0, 0, 2, 0, 0, 0]\n"
          ]
        }
      ],
      "source": [
        "print(labels[:30])"
      ]
    },
    {
      "attachments": {},
      "cell_type": "markdown",
      "metadata": {},
      "source": [
        "Get the size (**`input_shape`** in the model)"
      ]
    },
    {
      "cell_type": "code",
      "execution_count": 185,
      "metadata": {},
      "outputs": [],
      "source": [
        "size = len(prompts[0])"
      ]
    },
    {
      "attachments": {},
      "cell_type": "markdown",
      "metadata": {},
      "source": [
        "Make a model"
      ]
    },
    {
      "cell_type": "code",
      "execution_count": 186,
      "metadata": {},
      "outputs": [],
      "source": [
        "model = tf.keras.Sequential([\n",
        "    tf.keras.layers.Dense(16, activation='relu', input_shape=(size,)),\n",
        "    tf.keras.layers.Dense(3, activation='softmax')\n",
        "])"
      ]
    },
    {
      "attachments": {},
      "cell_type": "markdown",
      "metadata": {},
      "source": [
        "Compile the model"
      ]
    },
    {
      "cell_type": "code",
      "execution_count": 187,
      "metadata": {},
      "outputs": [],
      "source": [
        "model.compile(optimizer='adam', loss='sparse_categorical_crossentropy', metrics=['accuracy'])"
      ]
    },
    {
      "attachments": {},
      "cell_type": "markdown",
      "metadata": {},
      "source": [
        "Train the model"
      ]
    },
    {
      "cell_type": "code",
      "execution_count": 188,
      "metadata": {},
      "outputs": [
        {
          "name": "stdout",
          "output_type": "stream",
          "text": [
            "Epoch 1/100\n",
            "1183/1183 [==============================] - 5s 4ms/step - loss: 198.0634 - accuracy: 0.4110\n",
            "Epoch 2/100\n",
            "1183/1183 [==============================] - 3s 2ms/step - loss: 34.9810 - accuracy: 0.3643\n",
            "Epoch 3/100\n",
            "1183/1183 [==============================] - 3s 2ms/step - loss: 24.5616 - accuracy: 0.4314\n",
            "Epoch 4/100\n",
            "1183/1183 [==============================] - 3s 2ms/step - loss: 17.0215 - accuracy: 0.4362\n",
            "Epoch 5/100\n",
            "1183/1183 [==============================] - 3s 2ms/step - loss: 12.9221 - accuracy: 0.4421\n",
            "Epoch 6/100\n",
            "1183/1183 [==============================] - 3s 2ms/step - loss: 9.5118 - accuracy: 0.4457\n",
            "Epoch 7/100\n",
            "1183/1183 [==============================] - 2s 2ms/step - loss: 8.7103 - accuracy: 0.4514\n",
            "Epoch 8/100\n",
            "1183/1183 [==============================] - 3s 2ms/step - loss: 6.8153 - accuracy: 0.4543\n",
            "Epoch 9/100\n",
            "1183/1183 [==============================] - 3s 2ms/step - loss: 5.8198 - accuracy: 0.4561\n",
            "Epoch 10/100\n",
            "1183/1183 [==============================] - 2s 2ms/step - loss: 4.4470 - accuracy: 0.4676\n",
            "Epoch 11/100\n",
            "1183/1183 [==============================] - 3s 2ms/step - loss: 3.7655 - accuracy: 0.4742\n",
            "Epoch 12/100\n",
            "1183/1183 [==============================] - 3s 2ms/step - loss: 3.3633 - accuracy: 0.4765\n",
            "Epoch 13/100\n",
            "1183/1183 [==============================] - 3s 2ms/step - loss: 2.8218 - accuracy: 0.4731\n",
            "Epoch 14/100\n",
            "1183/1183 [==============================] - 3s 2ms/step - loss: 2.3495 - accuracy: 0.4669\n",
            "Epoch 15/100\n",
            "1183/1183 [==============================] - 3s 2ms/step - loss: 2.1434 - accuracy: 0.4753\n",
            "Epoch 16/100\n",
            "1183/1183 [==============================] - 3s 3ms/step - loss: 1.9634 - accuracy: 0.4720\n",
            "Epoch 17/100\n",
            "1183/1183 [==============================] - 4s 3ms/step - loss: 1.8122 - accuracy: 0.4708\n",
            "Epoch 18/100\n",
            "1183/1183 [==============================] - 5s 4ms/step - loss: 1.6440 - accuracy: 0.4705\n",
            "Epoch 19/100\n",
            "1183/1183 [==============================] - 5s 4ms/step - loss: 1.5226 - accuracy: 0.4682\n",
            "Epoch 20/100\n",
            "1183/1183 [==============================] - 4s 4ms/step - loss: 1.4204 - accuracy: 0.4677\n",
            "Epoch 21/100\n",
            "1183/1183 [==============================] - 4s 4ms/step - loss: 1.2937 - accuracy: 0.4661\n",
            "Epoch 22/100\n",
            "1183/1183 [==============================] - 4s 4ms/step - loss: 1.2134 - accuracy: 0.4644\n",
            "Epoch 23/100\n",
            "1183/1183 [==============================] - 4s 4ms/step - loss: 1.1912 - accuracy: 0.4610\n",
            "Epoch 24/100\n",
            "1183/1183 [==============================] - 5s 4ms/step - loss: 1.1419 - accuracy: 0.4622\n",
            "Epoch 25/100\n",
            "1183/1183 [==============================] - 3s 3ms/step - loss: 1.1163 - accuracy: 0.4587\n",
            "Epoch 26/100\n",
            "1183/1183 [==============================] - 4s 3ms/step - loss: 1.0781 - accuracy: 0.4586\n",
            "Epoch 27/100\n",
            "1183/1183 [==============================] - 3s 3ms/step - loss: 1.0672 - accuracy: 0.4573\n",
            "Epoch 28/100\n",
            "1183/1183 [==============================] - 4s 4ms/step - loss: 1.0631 - accuracy: 0.4575\n",
            "Epoch 29/100\n",
            "1183/1183 [==============================] - 4s 4ms/step - loss: 1.0702 - accuracy: 0.4567\n",
            "Epoch 30/100\n",
            "1183/1183 [==============================] - 4s 3ms/step - loss: 1.0686 - accuracy: 0.4550\n",
            "Epoch 31/100\n",
            "1183/1183 [==============================] - 3s 3ms/step - loss: 1.0641 - accuracy: 0.4536\n",
            "Epoch 32/100\n",
            "1183/1183 [==============================] - 3s 2ms/step - loss: 1.0647 - accuracy: 0.4539\n",
            "Epoch 33/100\n",
            "1183/1183 [==============================] - 2s 2ms/step - loss: 1.0630 - accuracy: 0.4561\n",
            "Epoch 34/100\n",
            "1183/1183 [==============================] - 2s 2ms/step - loss: 1.0601 - accuracy: 0.4553\n",
            "Epoch 35/100\n",
            "1183/1183 [==============================] - 2s 2ms/step - loss: 1.0630 - accuracy: 0.4542\n",
            "Epoch 36/100\n",
            "1183/1183 [==============================] - 3s 3ms/step - loss: 1.0613 - accuracy: 0.4541\n",
            "Epoch 37/100\n",
            "1183/1183 [==============================] - 3s 3ms/step - loss: 1.0720 - accuracy: 0.4541\n",
            "Epoch 38/100\n",
            "1183/1183 [==============================] - 3s 2ms/step - loss: 1.0629 - accuracy: 0.4554\n",
            "Epoch 39/100\n",
            "1183/1183 [==============================] - 2s 2ms/step - loss: 1.0597 - accuracy: 0.4561\n",
            "Epoch 40/100\n",
            "1183/1183 [==============================] - 2s 2ms/step - loss: 1.0599 - accuracy: 0.4550\n",
            "Epoch 41/100\n",
            "1183/1183 [==============================] - 2s 2ms/step - loss: 1.0638 - accuracy: 0.4537\n",
            "Epoch 42/100\n",
            "1183/1183 [==============================] - 3s 2ms/step - loss: 1.0651 - accuracy: 0.4555\n",
            "Epoch 43/100\n",
            "1183/1183 [==============================] - 2s 2ms/step - loss: 1.0610 - accuracy: 0.4539\n",
            "Epoch 44/100\n",
            "1183/1183 [==============================] - 3s 2ms/step - loss: 1.0613 - accuracy: 0.4549\n",
            "Epoch 45/100\n",
            "1183/1183 [==============================] - 2s 2ms/step - loss: 1.0644 - accuracy: 0.4567\n",
            "Epoch 46/100\n",
            "1183/1183 [==============================] - 2s 2ms/step - loss: 1.0612 - accuracy: 0.4564\n",
            "Epoch 47/100\n",
            "1183/1183 [==============================] - 3s 2ms/step - loss: 1.0613 - accuracy: 0.4575\n",
            "Epoch 48/100\n",
            "1183/1183 [==============================] - 2s 2ms/step - loss: 1.0659 - accuracy: 0.4586\n",
            "Epoch 49/100\n",
            "1183/1183 [==============================] - 2s 2ms/step - loss: 1.0601 - accuracy: 0.4559\n",
            "Epoch 50/100\n",
            "1183/1183 [==============================] - 3s 2ms/step - loss: 1.0657 - accuracy: 0.4567\n",
            "Epoch 51/100\n",
            "1183/1183 [==============================] - 3s 2ms/step - loss: 1.0720 - accuracy: 0.4564\n",
            "Epoch 52/100\n",
            "1183/1183 [==============================] - 3s 2ms/step - loss: 1.0652 - accuracy: 0.4557\n",
            "Epoch 53/100\n",
            "1183/1183 [==============================] - 3s 2ms/step - loss: 1.0613 - accuracy: 0.4549\n",
            "Epoch 54/100\n",
            "1183/1183 [==============================] - 2s 2ms/step - loss: 1.0615 - accuracy: 0.4543\n",
            "Epoch 55/100\n",
            "1183/1183 [==============================] - 3s 2ms/step - loss: 1.0655 - accuracy: 0.4516\n",
            "Epoch 56/100\n",
            "1183/1183 [==============================] - 3s 2ms/step - loss: 1.0636 - accuracy: 0.4509\n",
            "Epoch 57/100\n",
            "1183/1183 [==============================] - 3s 2ms/step - loss: 1.0636 - accuracy: 0.4509\n",
            "Epoch 58/100\n",
            "1183/1183 [==============================] - 3s 2ms/step - loss: 1.0636 - accuracy: 0.4509\n",
            "Epoch 59/100\n",
            "1183/1183 [==============================] - 3s 2ms/step - loss: 1.0636 - accuracy: 0.4509\n",
            "Epoch 60/100\n",
            "1183/1183 [==============================] - 3s 2ms/step - loss: 1.0636 - accuracy: 0.4509\n",
            "Epoch 61/100\n",
            "1183/1183 [==============================] - 3s 2ms/step - loss: 1.0636 - accuracy: 0.4509\n",
            "Epoch 62/100\n",
            "1183/1183 [==============================] - 3s 2ms/step - loss: 1.0636 - accuracy: 0.4509\n",
            "Epoch 63/100\n",
            "1183/1183 [==============================] - 3s 2ms/step - loss: 1.0636 - accuracy: 0.4509\n",
            "Epoch 64/100\n",
            "1183/1183 [==============================] - 3s 2ms/step - loss: 1.0715 - accuracy: 0.4510\n",
            "Epoch 65/100\n",
            "1183/1183 [==============================] - 3s 2ms/step - loss: 1.0633 - accuracy: 0.4512\n",
            "Epoch 66/100\n",
            "1183/1183 [==============================] - 3s 2ms/step - loss: 1.0642 - accuracy: 0.4510\n",
            "Epoch 67/100\n",
            "1183/1183 [==============================] - 3s 2ms/step - loss: 1.0636 - accuracy: 0.4509\n",
            "Epoch 68/100\n",
            "1183/1183 [==============================] - 3s 2ms/step - loss: 1.0634 - accuracy: 0.4511\n",
            "Epoch 69/100\n",
            "1183/1183 [==============================] - 3s 2ms/step - loss: 1.0632 - accuracy: 0.4512\n",
            "Epoch 70/100\n",
            "1183/1183 [==============================] - 3s 3ms/step - loss: 1.0632 - accuracy: 0.4512\n",
            "Epoch 71/100\n",
            "1183/1183 [==============================] - 3s 3ms/step - loss: 1.0632 - accuracy: 0.4512\n",
            "Epoch 72/100\n",
            "1183/1183 [==============================] - 6s 5ms/step - loss: 1.0633 - accuracy: 0.4512\n",
            "Epoch 73/100\n",
            "1183/1183 [==============================] - 6s 5ms/step - loss: 1.0632 - accuracy: 0.4512\n",
            "Epoch 74/100\n",
            "1183/1183 [==============================] - 5s 4ms/step - loss: 1.0633 - accuracy: 0.4512\n",
            "Epoch 75/100\n",
            "1183/1183 [==============================] - 6s 5ms/step - loss: 1.0633 - accuracy: 0.4512\n",
            "Epoch 76/100\n",
            "1183/1183 [==============================] - 6s 5ms/step - loss: 1.0636 - accuracy: 0.4510\n",
            "Epoch 77/100\n",
            "1183/1183 [==============================] - 7s 6ms/step - loss: 1.0708 - accuracy: 0.4517\n",
            "Epoch 78/100\n",
            "1183/1183 [==============================] - 6s 5ms/step - loss: 1.0641 - accuracy: 0.4506\n",
            "Epoch 79/100\n",
            "1183/1183 [==============================] - 5s 4ms/step - loss: 1.0633 - accuracy: 0.4511\n",
            "Epoch 80/100\n",
            "1183/1183 [==============================] - 5s 4ms/step - loss: 1.0830 - accuracy: 0.4506\n",
            "Epoch 81/100\n",
            "1183/1183 [==============================] - 5s 4ms/step - loss: 1.0642 - accuracy: 0.4505\n",
            "Epoch 82/100\n",
            "1183/1183 [==============================] - 5s 4ms/step - loss: 1.0642 - accuracy: 0.4505\n",
            "Epoch 83/100\n",
            "1183/1183 [==============================] - 5s 4ms/step - loss: 1.0642 - accuracy: 0.4505\n",
            "Epoch 84/100\n",
            "1183/1183 [==============================] - 6s 5ms/step - loss: 1.0641 - accuracy: 0.4506\n",
            "Epoch 85/100\n",
            "1183/1183 [==============================] - 6s 5ms/step - loss: 1.0644 - accuracy: 0.4506\n",
            "Epoch 86/100\n",
            "1183/1183 [==============================] - 5s 4ms/step - loss: 1.0641 - accuracy: 0.4508\n",
            "Epoch 87/100\n",
            "1183/1183 [==============================] - 4s 3ms/step - loss: 1.0640 - accuracy: 0.4509\n",
            "Epoch 88/100\n",
            "1183/1183 [==============================] - 4s 3ms/step - loss: 1.0636 - accuracy: 0.4509\n",
            "Epoch 89/100\n",
            "1183/1183 [==============================] - 5s 4ms/step - loss: 1.0655 - accuracy: 0.4508\n",
            "Epoch 90/100\n",
            "1183/1183 [==============================] - 5s 4ms/step - loss: 1.0634 - accuracy: 0.4511\n",
            "Epoch 91/100\n",
            "1183/1183 [==============================] - 5s 4ms/step - loss: 1.0634 - accuracy: 0.4511\n",
            "Epoch 92/100\n",
            "1183/1183 [==============================] - 5s 4ms/step - loss: 1.0634 - accuracy: 0.4511\n",
            "Epoch 93/100\n",
            "1183/1183 [==============================] - 5s 4ms/step - loss: 1.0633 - accuracy: 0.4511\n",
            "Epoch 94/100\n",
            "1183/1183 [==============================] - 5s 4ms/step - loss: 1.0645 - accuracy: 0.4512\n",
            "Epoch 95/100\n",
            "1183/1183 [==============================] - 5s 4ms/step - loss: 1.0709 - accuracy: 0.4507\n",
            "Epoch 96/100\n",
            "1183/1183 [==============================] - 5s 4ms/step - loss: 1.0641 - accuracy: 0.4506\n",
            "Epoch 97/100\n",
            "1183/1183 [==============================] - 5s 4ms/step - loss: 1.0640 - accuracy: 0.4506\n",
            "Epoch 98/100\n",
            "1183/1183 [==============================] - 5s 4ms/step - loss: 1.0640 - accuracy: 0.4506\n",
            "Epoch 99/100\n",
            "1183/1183 [==============================] - 4s 3ms/step - loss: 1.0641 - accuracy: 0.4506\n",
            "Epoch 100/100\n",
            "1183/1183 [==============================] - 4s 3ms/step - loss: 1.0641 - accuracy: 0.4506\n"
          ]
        }
      ],
      "source": [
        "history = model.fit(np.asarray(prompts), np.asarray(labels), epochs=10, batch_size=10)"
      ]
    }
  ],
  "metadata": {
    "colab": {
      "provenance": []
    },
    "kernelspec": {
      "display_name": "Python 3",
      "name": "python3"
    },
    "language_info": {
      "codemirror_mode": {
        "name": "ipython",
        "version": 3
      },
      "file_extension": ".py",
      "mimetype": "text/x-python",
      "name": "python",
      "nbconvert_exporter": "python",
      "pygments_lexer": "ipython3",
      "version": "3.10.6"
    }
  },
  "nbformat": 4,
  "nbformat_minor": 0
}
